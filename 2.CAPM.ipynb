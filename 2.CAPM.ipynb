{
 "cells": [
  {
   "cell_type": "markdown",
   "id": "a30546f2",
   "metadata": {},
   "source": [
    "## Capital Asset Pricing Model (CAPM)\n",
    "\n",
    "### Linear Factor Models\n",
    "\n",
    "#### Market_Portfolio.xlsx contains monthly nominal (net) returns for the market portfolio, expressed as a percentage. These returns cover the ten-year period from Jan 2004 through Dec 2013. Assume that the risk-free rate is 0.13% per month."
   ]
  },
  {
   "cell_type": "code",
   "execution_count": 1,
   "id": "bd0cbb18",
   "metadata": {},
   "outputs": [],
   "source": [
    "import pandas as pd\n",
    "import numpy as np\n",
    "import matplotlib.pyplot as plt\n",
    "from sklearn.linear_model import LinearRegression\n",
    "import statsmodels.api as sm\n",
    "\n",
    "Rf = 0.13"
   ]
  },
  {
   "cell_type": "code",
   "execution_count": 2,
   "id": "17d4d44b",
   "metadata": {},
   "outputs": [
    {
     "name": "stderr",
     "output_type": "stream",
     "text": [
      "/Users/xiezijun/Documents/anaconda/anaconda3/lib/python3.8/site-packages/openpyxl/worksheet/_reader.py:312: UserWarning: Unknown extension is not supported and will be removed\n",
      "  warn(msg)\n"
     ]
    }
   ],
   "source": [
    "industry_portfolio = pd.read_excel(\"Industry_Portfolios.xlsx\", index_col = 0)\n",
    "market_portfolio = pd.read_excel(\"Market_Portfolio.xlsx\", index_col = 0)"
   ]
  },
  {
   "cell_type": "code",
   "execution_count": 3,
   "id": "6addb023",
   "metadata": {
    "scrolled": false
   },
   "outputs": [
    {
     "data": {
      "text/html": [
       "<div>\n",
       "<style scoped>\n",
       "    .dataframe tbody tr th:only-of-type {\n",
       "        vertical-align: middle;\n",
       "    }\n",
       "\n",
       "    .dataframe tbody tr th {\n",
       "        vertical-align: top;\n",
       "    }\n",
       "\n",
       "    .dataframe thead th {\n",
       "        text-align: right;\n",
       "    }\n",
       "</style>\n",
       "<table border=\"1\" class=\"dataframe\">\n",
       "  <thead>\n",
       "    <tr style=\"text-align: right;\">\n",
       "      <th></th>\n",
       "      <th>NoDur</th>\n",
       "      <th>Durbl</th>\n",
       "      <th>Manuf</th>\n",
       "      <th>Enrgy</th>\n",
       "      <th>HiTec</th>\n",
       "      <th>Telcm</th>\n",
       "      <th>Shops</th>\n",
       "      <th>Hlth</th>\n",
       "      <th>Utils</th>\n",
       "      <th>Other</th>\n",
       "    </tr>\n",
       "    <tr>\n",
       "      <th>Date</th>\n",
       "      <th></th>\n",
       "      <th></th>\n",
       "      <th></th>\n",
       "      <th></th>\n",
       "      <th></th>\n",
       "      <th></th>\n",
       "      <th></th>\n",
       "      <th></th>\n",
       "      <th></th>\n",
       "      <th></th>\n",
       "    </tr>\n",
       "  </thead>\n",
       "  <tbody>\n",
       "    <tr>\n",
       "      <th>200401</th>\n",
       "      <td>0.06</td>\n",
       "      <td>-1.07</td>\n",
       "      <td>-0.62</td>\n",
       "      <td>0.44</td>\n",
       "      <td>4.53</td>\n",
       "      <td>1.41</td>\n",
       "      <td>0.45</td>\n",
       "      <td>3.09</td>\n",
       "      <td>1.92</td>\n",
       "      <td>2.88</td>\n",
       "    </tr>\n",
       "    <tr>\n",
       "      <th>200402</th>\n",
       "      <td>4.25</td>\n",
       "      <td>-0.07</td>\n",
       "      <td>1.95</td>\n",
       "      <td>4.69</td>\n",
       "      <td>-2.92</td>\n",
       "      <td>-0.52</td>\n",
       "      <td>6.09</td>\n",
       "      <td>0.89</td>\n",
       "      <td>2.07</td>\n",
       "      <td>2.16</td>\n",
       "    </tr>\n",
       "    <tr>\n",
       "      <th>200403</th>\n",
       "      <td>-0.09</td>\n",
       "      <td>-1.15</td>\n",
       "      <td>-0.27</td>\n",
       "      <td>-0.13</td>\n",
       "      <td>-2.55</td>\n",
       "      <td>-2.07</td>\n",
       "      <td>0.29</td>\n",
       "      <td>-3.96</td>\n",
       "      <td>1.13</td>\n",
       "      <td>-0.63</td>\n",
       "    </tr>\n",
       "    <tr>\n",
       "      <th>200404</th>\n",
       "      <td>1.42</td>\n",
       "      <td>2.30</td>\n",
       "      <td>-0.17</td>\n",
       "      <td>2.52</td>\n",
       "      <td>-4.91</td>\n",
       "      <td>-0.48</td>\n",
       "      <td>-2.70</td>\n",
       "      <td>3.54</td>\n",
       "      <td>-3.55</td>\n",
       "      <td>-3.76</td>\n",
       "    </tr>\n",
       "    <tr>\n",
       "      <th>200405</th>\n",
       "      <td>-1.89</td>\n",
       "      <td>-1.64</td>\n",
       "      <td>1.61</td>\n",
       "      <td>0.39</td>\n",
       "      <td>4.85</td>\n",
       "      <td>-2.95</td>\n",
       "      <td>0.30</td>\n",
       "      <td>-0.42</td>\n",
       "      <td>1.28</td>\n",
       "      <td>1.86</td>\n",
       "    </tr>\n",
       "    <tr>\n",
       "      <th>...</th>\n",
       "      <td>...</td>\n",
       "      <td>...</td>\n",
       "      <td>...</td>\n",
       "      <td>...</td>\n",
       "      <td>...</td>\n",
       "      <td>...</td>\n",
       "      <td>...</td>\n",
       "      <td>...</td>\n",
       "      <td>...</td>\n",
       "      <td>...</td>\n",
       "    </tr>\n",
       "    <tr>\n",
       "      <th>201308</th>\n",
       "      <td>-4.00</td>\n",
       "      <td>-1.00</td>\n",
       "      <td>-1.95</td>\n",
       "      <td>-1.83</td>\n",
       "      <td>-0.12</td>\n",
       "      <td>-3.28</td>\n",
       "      <td>-4.21</td>\n",
       "      <td>-3.49</td>\n",
       "      <td>-4.43</td>\n",
       "      <td>-3.66</td>\n",
       "    </tr>\n",
       "    <tr>\n",
       "      <th>201309</th>\n",
       "      <td>1.94</td>\n",
       "      <td>6.46</td>\n",
       "      <td>5.20</td>\n",
       "      <td>2.03</td>\n",
       "      <td>3.77</td>\n",
       "      <td>4.33</td>\n",
       "      <td>4.46</td>\n",
       "      <td>4.19</td>\n",
       "      <td>1.05</td>\n",
       "      <td>3.83</td>\n",
       "    </tr>\n",
       "    <tr>\n",
       "      <th>201310</th>\n",
       "      <td>4.75</td>\n",
       "      <td>0.72</td>\n",
       "      <td>4.56</td>\n",
       "      <td>4.86</td>\n",
       "      <td>3.80</td>\n",
       "      <td>5.52</td>\n",
       "      <td>5.08</td>\n",
       "      <td>3.47</td>\n",
       "      <td>3.35</td>\n",
       "      <td>3.87</td>\n",
       "    </tr>\n",
       "    <tr>\n",
       "      <th>201311</th>\n",
       "      <td>1.29</td>\n",
       "      <td>1.81</td>\n",
       "      <td>2.95</td>\n",
       "      <td>0.85</td>\n",
       "      <td>3.65</td>\n",
       "      <td>0.27</td>\n",
       "      <td>3.67</td>\n",
       "      <td>4.54</td>\n",
       "      <td>-1.81</td>\n",
       "      <td>4.74</td>\n",
       "    </tr>\n",
       "    <tr>\n",
       "      <th>201312</th>\n",
       "      <td>2.65</td>\n",
       "      <td>1.18</td>\n",
       "      <td>3.13</td>\n",
       "      <td>2.95</td>\n",
       "      <td>4.04</td>\n",
       "      <td>3.96</td>\n",
       "      <td>0.20</td>\n",
       "      <td>0.71</td>\n",
       "      <td>1.79</td>\n",
       "      <td>3.11</td>\n",
       "    </tr>\n",
       "  </tbody>\n",
       "</table>\n",
       "<p>120 rows × 10 columns</p>\n",
       "</div>"
      ],
      "text/plain": [
       "        NoDur  Durbl  Manuf  Enrgy  HiTec  Telcm  Shops  Hlth  Utils  Other\n",
       "Date                                                                       \n",
       "200401   0.06  -1.07  -0.62   0.44   4.53   1.41   0.45  3.09   1.92   2.88\n",
       "200402   4.25  -0.07   1.95   4.69  -2.92  -0.52   6.09  0.89   2.07   2.16\n",
       "200403  -0.09  -1.15  -0.27  -0.13  -2.55  -2.07   0.29 -3.96   1.13  -0.63\n",
       "200404   1.42   2.30  -0.17   2.52  -4.91  -0.48  -2.70  3.54  -3.55  -3.76\n",
       "200405  -1.89  -1.64   1.61   0.39   4.85  -2.95   0.30 -0.42   1.28   1.86\n",
       "...       ...    ...    ...    ...    ...    ...    ...   ...    ...    ...\n",
       "201308  -4.00  -1.00  -1.95  -1.83  -0.12  -3.28  -4.21 -3.49  -4.43  -3.66\n",
       "201309   1.94   6.46   5.20   2.03   3.77   4.33   4.46  4.19   1.05   3.83\n",
       "201310   4.75   0.72   4.56   4.86   3.80   5.52   5.08  3.47   3.35   3.87\n",
       "201311   1.29   1.81   2.95   0.85   3.65   0.27   3.67  4.54  -1.81   4.74\n",
       "201312   2.65   1.18   3.13   2.95   4.04   3.96   0.20  0.71   1.79   3.11\n",
       "\n",
       "[120 rows x 10 columns]"
      ]
     },
     "execution_count": 3,
     "metadata": {},
     "output_type": "execute_result"
    }
   ],
   "source": [
    "industry_portfolio"
   ]
  },
  {
   "cell_type": "code",
   "execution_count": 4,
   "id": "2e82eff5",
   "metadata": {},
   "outputs": [
    {
     "data": {
      "text/html": [
       "<div>\n",
       "<style scoped>\n",
       "    .dataframe tbody tr th:only-of-type {\n",
       "        vertical-align: middle;\n",
       "    }\n",
       "\n",
       "    .dataframe tbody tr th {\n",
       "        vertical-align: top;\n",
       "    }\n",
       "\n",
       "    .dataframe thead th {\n",
       "        text-align: right;\n",
       "    }\n",
       "</style>\n",
       "<table border=\"1\" class=\"dataframe\">\n",
       "  <thead>\n",
       "    <tr style=\"text-align: right;\">\n",
       "      <th></th>\n",
       "      <th>Market</th>\n",
       "    </tr>\n",
       "    <tr>\n",
       "      <th>Date</th>\n",
       "      <th></th>\n",
       "    </tr>\n",
       "  </thead>\n",
       "  <tbody>\n",
       "    <tr>\n",
       "      <th>200401</th>\n",
       "      <td>2.22</td>\n",
       "    </tr>\n",
       "    <tr>\n",
       "      <th>200402</th>\n",
       "      <td>1.46</td>\n",
       "    </tr>\n",
       "    <tr>\n",
       "      <th>200403</th>\n",
       "      <td>-1.23</td>\n",
       "    </tr>\n",
       "    <tr>\n",
       "      <th>200404</th>\n",
       "      <td>-1.75</td>\n",
       "    </tr>\n",
       "    <tr>\n",
       "      <th>200405</th>\n",
       "      <td>1.23</td>\n",
       "    </tr>\n",
       "    <tr>\n",
       "      <th>...</th>\n",
       "      <td>...</td>\n",
       "    </tr>\n",
       "    <tr>\n",
       "      <th>201308</th>\n",
       "      <td>-2.69</td>\n",
       "    </tr>\n",
       "    <tr>\n",
       "      <th>201309</th>\n",
       "      <td>3.76</td>\n",
       "    </tr>\n",
       "    <tr>\n",
       "      <th>201310</th>\n",
       "      <td>4.17</td>\n",
       "    </tr>\n",
       "    <tr>\n",
       "      <th>201311</th>\n",
       "      <td>3.12</td>\n",
       "    </tr>\n",
       "    <tr>\n",
       "      <th>201312</th>\n",
       "      <td>2.81</td>\n",
       "    </tr>\n",
       "  </tbody>\n",
       "</table>\n",
       "<p>120 rows × 1 columns</p>\n",
       "</div>"
      ],
      "text/plain": [
       "        Market\n",
       "Date          \n",
       "200401    2.22\n",
       "200402    1.46\n",
       "200403   -1.23\n",
       "200404   -1.75\n",
       "200405    1.23\n",
       "...        ...\n",
       "201308   -2.69\n",
       "201309    3.76\n",
       "201310    4.17\n",
       "201311    3.12\n",
       "201312    2.81\n",
       "\n",
       "[120 rows x 1 columns]"
      ]
     },
     "execution_count": 4,
     "metadata": {},
     "output_type": "execute_result"
    }
   ],
   "source": [
    "market_portfolio"
   ]
  },
  {
   "cell_type": "markdown",
   "id": "85345bae",
   "metadata": {},
   "source": [
    "### Market Model\n",
    "\n",
    "#### Q1.1 Regress the monthly excess returns for each of the ten industry portfolios on the monthly excess returns for the market portfolio, so as to estimate the intercept coefficient (α) and slope coefficient (β) for each of the ten industry portfolios."
   ]
  },
  {
   "cell_type": "code",
   "execution_count": 5,
   "id": "2c0dd094",
   "metadata": {},
   "outputs": [],
   "source": [
    "def regression_model(i):\n",
    "    intercept = np.empty([i, 1])\n",
    "    slope = np.empty([i, 1])\n",
    "    \n",
    "    for i in range(0,i):\n",
    "        market_model = LinearRegression().fit(np.array(market_portfolio.iloc[:,0]).reshape(-1,1)-Rf,\n",
    "                                              industry_portfolio.iloc[:,i]-Rf)\n",
    "        intercept[i] = market_model.intercept_\n",
    "        slope[i] = market_model.coef_\n",
    "#         Another method:\n",
    "#         result = sm.OLS(industry_portfolio.iloc[:,i]-Rf, sm.add_constant(market_portfolio-Rf)).fit()\n",
    "#         intercept[i] = result.params[0]\n",
    "#         slope[i] = result.params[1]\n",
    "    \n",
    "    return intercept, slope"
   ]
  },
  {
   "cell_type": "markdown",
   "id": "913f4647",
   "metadata": {},
   "source": [
    "#### Q1.2 Create a table showing the intercept and slope coefficients for the ten industry portfolios."
   ]
  },
  {
   "cell_type": "code",
   "execution_count": 6,
   "id": "1bbdc920",
   "metadata": {},
   "outputs": [
    {
     "data": {
      "text/html": [
       "<div>\n",
       "<style scoped>\n",
       "    .dataframe tbody tr th:only-of-type {\n",
       "        vertical-align: middle;\n",
       "    }\n",
       "\n",
       "    .dataframe tbody tr th {\n",
       "        vertical-align: top;\n",
       "    }\n",
       "\n",
       "    .dataframe thead th {\n",
       "        text-align: right;\n",
       "    }\n",
       "</style>\n",
       "<table border=\"1\" class=\"dataframe\">\n",
       "  <thead>\n",
       "    <tr style=\"text-align: right;\">\n",
       "      <th></th>\n",
       "      <th>industries</th>\n",
       "      <th>intercept</th>\n",
       "      <th>slope</th>\n",
       "    </tr>\n",
       "  </thead>\n",
       "  <tbody>\n",
       "    <tr>\n",
       "      <th>0</th>\n",
       "      <td>NoDur</td>\n",
       "      <td>0.369443</td>\n",
       "      <td>0.652647</td>\n",
       "    </tr>\n",
       "    <tr>\n",
       "      <th>1</th>\n",
       "      <td>Durbl</td>\n",
       "      <td>-0.415599</td>\n",
       "      <td>1.648536</td>\n",
       "    </tr>\n",
       "    <tr>\n",
       "      <th>2</th>\n",
       "      <td>Manuf</td>\n",
       "      <td>0.159771</td>\n",
       "      <td>1.169846</td>\n",
       "    </tr>\n",
       "    <tr>\n",
       "      <th>3</th>\n",
       "      <td>Enrgy</td>\n",
       "      <td>0.501719</td>\n",
       "      <td>0.969850</td>\n",
       "    </tr>\n",
       "    <tr>\n",
       "      <th>4</th>\n",
       "      <td>HiTec</td>\n",
       "      <td>-0.064020</td>\n",
       "      <td>1.132969</td>\n",
       "    </tr>\n",
       "    <tr>\n",
       "      <th>5</th>\n",
       "      <td>Telcm</td>\n",
       "      <td>0.194691</td>\n",
       "      <td>0.900729</td>\n",
       "    </tr>\n",
       "    <tr>\n",
       "      <th>6</th>\n",
       "      <td>Shops</td>\n",
       "      <td>0.275492</td>\n",
       "      <td>0.826492</td>\n",
       "    </tr>\n",
       "    <tr>\n",
       "      <th>7</th>\n",
       "      <td>Hlth</td>\n",
       "      <td>0.237841</td>\n",
       "      <td>0.673036</td>\n",
       "    </tr>\n",
       "    <tr>\n",
       "      <th>8</th>\n",
       "      <td>Utils</td>\n",
       "      <td>0.444585</td>\n",
       "      <td>0.538086</td>\n",
       "    </tr>\n",
       "    <tr>\n",
       "      <th>9</th>\n",
       "      <td>Other</td>\n",
       "      <td>-0.387135</td>\n",
       "      <td>1.207309</td>\n",
       "    </tr>\n",
       "  </tbody>\n",
       "</table>\n",
       "</div>"
      ],
      "text/plain": [
       "  industries  intercept     slope\n",
       "0      NoDur   0.369443  0.652647\n",
       "1      Durbl  -0.415599  1.648536\n",
       "2      Manuf   0.159771  1.169846\n",
       "3      Enrgy   0.501719  0.969850\n",
       "4      HiTec  -0.064020  1.132969\n",
       "5      Telcm   0.194691  0.900729\n",
       "6      Shops   0.275492  0.826492\n",
       "7       Hlth   0.237841  0.673036\n",
       "8      Utils   0.444585  0.538086\n",
       "9      Other  -0.387135  1.207309"
      ]
     },
     "execution_count": 6,
     "metadata": {},
     "output_type": "execute_result"
    }
   ],
   "source": [
    "Market_Model_Table = pd.DataFrame(industry_portfolio.reset_index().keys()[1:], columns = [\"industries\"])\n",
    "Market_Model_Table[\"intercept\"] = regression_model(10)[0]\n",
    "Market_Model_Table[\"slope\"] = regression_model(10)[1]\n",
    "Market_Model_Table"
   ]
  },
  {
   "cell_type": "markdown",
   "id": "818eab11",
   "metadata": {},
   "source": [
    "#### Q1.3 Briefly explain the economic significance of the intercept and slope coefficients."
   ]
  },
  {
   "cell_type": "markdown",
   "id": "db8a85dc",
   "metadata": {},
   "source": [
    "> The intercept and slope coefficients work together to tell us which relationships in your model are statistically significant and the nature of those relationships. \n",
    "\n",
    "> The slope coefficients describe the mathematical relationship between each independent variable and the dependent variable. Here we wish to explore the how the market risk will impact the ten industries, the result show all the industries has the positive relationship with market portfolio.\n",
    "\n",
    "> The intercept (often labeled the constant) is the expected mean value of Y when all X=0.\n",
    "\n",
    "* Intercept coefficient from market model regression represents CAPM pricing error.\n",
    "\n",
    "* Slope coefficient from market model regression represents amount of exposure to market risk."
   ]
  },
  {
   "cell_type": "markdown",
   "id": "99ec53ef",
   "metadata": {},
   "source": [
    "### Security Market Line (SML)\n",
    "\n",
    "#### Q2.1 Calculate the mean monthly return for each of the ten industry portfolios, as well as the market portfolio."
   ]
  },
  {
   "cell_type": "code",
   "execution_count": 7,
   "id": "20cd19d7",
   "metadata": {},
   "outputs": [],
   "source": [
    "Ri = industry_portfolio.mean()\n",
    "Rm = market_portfolio.mean()"
   ]
  },
  {
   "cell_type": "code",
   "execution_count": 8,
   "id": "407c8b74",
   "metadata": {},
   "outputs": [
    {
     "data": {
      "text/html": [
       "<div>\n",
       "<style scoped>\n",
       "    .dataframe tbody tr th:only-of-type {\n",
       "        vertical-align: middle;\n",
       "    }\n",
       "\n",
       "    .dataframe tbody tr th {\n",
       "        vertical-align: top;\n",
       "    }\n",
       "\n",
       "    .dataframe thead th {\n",
       "        text-align: right;\n",
       "    }\n",
       "</style>\n",
       "<table border=\"1\" class=\"dataframe\">\n",
       "  <thead>\n",
       "    <tr style=\"text-align: right;\">\n",
       "      <th></th>\n",
       "      <th>0</th>\n",
       "    </tr>\n",
       "  </thead>\n",
       "  <tbody>\n",
       "    <tr>\n",
       "      <th>NoDur</th>\n",
       "      <td>0.902833</td>\n",
       "    </tr>\n",
       "    <tr>\n",
       "      <th>Durbl</th>\n",
       "      <td>0.733333</td>\n",
       "    </tr>\n",
       "    <tr>\n",
       "      <th>Manuf</th>\n",
       "      <td>1.012833</td>\n",
       "    </tr>\n",
       "    <tr>\n",
       "      <th>Enrgy</th>\n",
       "      <td>1.231167</td>\n",
       "    </tr>\n",
       "    <tr>\n",
       "      <th>HiTec</th>\n",
       "      <td>0.766250</td>\n",
       "    </tr>\n",
       "    <tr>\n",
       "      <th>Telcm</th>\n",
       "      <td>0.881417</td>\n",
       "    </tr>\n",
       "    <tr>\n",
       "      <th>Shops</th>\n",
       "      <td>0.916333</td>\n",
       "    </tr>\n",
       "    <tr>\n",
       "      <th>Hlth</th>\n",
       "      <td>0.783833</td>\n",
       "    </tr>\n",
       "    <tr>\n",
       "      <th>Utils</th>\n",
       "      <td>0.907167</td>\n",
       "    </tr>\n",
       "    <tr>\n",
       "      <th>Other</th>\n",
       "      <td>0.489083</td>\n",
       "    </tr>\n",
       "    <tr>\n",
       "      <th>Market</th>\n",
       "      <td>0.748083</td>\n",
       "    </tr>\n",
       "  </tbody>\n",
       "</table>\n",
       "</div>"
      ],
      "text/plain": [
       "               0\n",
       "NoDur   0.902833\n",
       "Durbl   0.733333\n",
       "Manuf   1.012833\n",
       "Enrgy   1.231167\n",
       "HiTec   0.766250\n",
       "Telcm   0.881417\n",
       "Shops   0.916333\n",
       "Hlth    0.783833\n",
       "Utils   0.907167\n",
       "Other   0.489083\n",
       "Market  0.748083"
      ]
     },
     "execution_count": 8,
     "metadata": {},
     "output_type": "execute_result"
    }
   ],
   "source": [
    "R = pd.concat([pd.DataFrame(Ri),pd.DataFrame(Rm)])\n",
    "R"
   ]
  },
  {
   "cell_type": "markdown",
   "id": "1b3d0c27",
   "metadata": {},
   "source": [
    "#### Q2.2 Regress the mean monthly returns of the ten industry portfolios and the market portfolio on the corresponding β (by construction, the market portfolio has β of one). This will give you the intercept and slope coefficients for the SML. (Warning: the results may be very different from what you would expect!)"
   ]
  },
  {
   "cell_type": "code",
   "execution_count": 9,
   "id": "a419657e",
   "metadata": {},
   "outputs": [],
   "source": [
    "Beta = pd.concat([Market_Model_Table[[\"slope\"]],\n",
    "                  pd.DataFrame({\"slope\": 1},index=[10])]).reset_index(drop=True)\n",
    "SML_model = LinearRegression().fit(Beta, R)"
   ]
  },
  {
   "cell_type": "code",
   "execution_count": 10,
   "id": "14a971fc",
   "metadata": {},
   "outputs": [
    {
     "data": {
      "text/plain": [
       "0.09709883406266284"
      ]
     },
     "execution_count": 10,
     "metadata": {},
     "output_type": "execute_result"
    }
   ],
   "source": [
    "SML_model.score(Beta, R)"
   ]
  },
  {
   "cell_type": "code",
   "execution_count": 11,
   "id": "ff52c52c",
   "metadata": {},
   "outputs": [
    {
     "name": "stdout",
     "output_type": "stream",
     "text": [
      "the intercept for the SML: 1.032768368265706\n",
      "the slope coefficients for the SML: -0.18546745836573278\n"
     ]
    }
   ],
   "source": [
    "print(\"the intercept for the SML:\", SML_model.intercept_[0])\n",
    "print(\"the slope coefficients for the SML:\", SML_model.coef_[0][0])"
   ]
  },
  {
   "cell_type": "markdown",
   "id": "4439e54f",
   "metadata": {},
   "source": [
    "#### Q2.3 Using the estimated intercept and slope coefficients for the SML, plot the SML in the range of β from zero to two on the horizontal axis. Also plot the positions of the ten industry portfolios and the market portfolio. (You are NOT required to label the individual portfolios.)"
   ]
  },
  {
   "cell_type": "code",
   "execution_count": 12,
   "id": "2ca60086",
   "metadata": {},
   "outputs": [
    {
     "data": {
      "image/png": "[encoded data removed]",
      "text/plain": [
       "<Figure size 792x504 with 1 Axes>"
      ]
     },
     "metadata": {
      "needs_background": "light"
     },
     "output_type": "display_data"
    }
   ],
   "source": [
    "def R_variable(beta):\n",
    "    return SML_model.intercept_[0] + beta * SML_model.coef_[0][0]\n",
    "\n",
    "plt.figure(figsize = (11,7))\n",
    "beta = np.linspace(0,2,100)\n",
    "plt.plot(beta, R_variable(beta), label = \"SML\")\n",
    "plt.scatter(Beta.iloc[:10], R.iloc[:10], color = \"green\", label = \"Ten Industry Portfolios\")\n",
    "plt.scatter(Beta.iloc[-1], R.iloc[-1], color = \"orange\", label = \"Market Portfolio\")\n",
    "plt.xlabel(\"Beta\", fontsize = 15)\n",
    "plt.xlim(0,2)\n",
    "plt.ylabel(\"Mean Return(%)\", fontsize = 15)\n",
    "plt.legend(fontsize = 12)\n",
    "plt.title(\"Security Market Line (SML)\", fontsize = 20)\n",
    "plt.show()"
   ]
  },
  {
   "cell_type": "markdown",
   "id": "2e7e4a86",
   "metadata": {},
   "source": [
    "#### Q2.4 Briefly explain the economic significance of the SML."
   ]
  },
  {
   "cell_type": "markdown",
   "id": "87b59182",
   "metadata": {},
   "source": [
    "> The SML is useful in determining whether the security offers a favorable expected return compared to its level of risk. \n",
    "\n",
    "> The classical theory of SML assumes that it is a straight line with positive slope coefficients, which means that an investor is willing to accept lower return on the lower beta assets than on the higher beta assets. Differences in expected returns are compensations for different degrees of systematic risk (i.e.,\n",
    "market beta). But this SML shows the difference.\n",
    "\n",
    "> The downward-sloping SML cannot be easily explained by existing theories of the low-beta anomaly that generally resorts to certain type of market constraints. Investors' overconfidence offers some promises in reconciling the downward-sloping SML. Sometimes high-beta stocks are the most heavily traded stocks with the lowest risk-adjust returns.\n",
    "\n",
    "> A downward-sloping SML also has its distinctive portfolio implications for the mutual fund industry. In fact, the evidence from the actively managed equity funds in China reinforces the view that in a retail-investor-dominated market, some institutional investors (i.e., mutual funds) actively exploit the portfolio implications of the low-beta anomaly by shying away from lottery-like stocks and betting on low-beta stocks for superior performance.\n",
    "\n",
    "* SML shows that all appropriately-priced assets should have same Treynor ratio. Assets that lie above SML are underpriced, while assets that lie below SML are overpriced."
   ]
  }
 ],
 "metadata": {
  "kernelspec": {
   "display_name": "Python 3",
   "language": "python",
   "name": "python3"
  },
  "language_info": {
   "codemirror_mode": {
    "name": "ipython",
    "version": 3
   },
   "file_extension": ".py",
   "mimetype": "text/x-python",
   "name": "python",
   "nbconvert_exporter": "python",
   "pygments_lexer": "ipython3",
   "version": "3.8.8"
  }
 },
 "nbformat": 4,
 "nbformat_minor": 5
}
